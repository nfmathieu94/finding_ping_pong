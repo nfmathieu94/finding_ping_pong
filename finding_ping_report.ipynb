{
 "cells": [
  {
   "cell_type": "markdown",
   "id": "550302f9-6856-4c76-bf6c-1eb3463637e0",
   "metadata": {
    "jp-MarkdownHeadingCollapsed": true,
    "tags": []
   },
   "source": [
    "# Finding Ping\n",
    "\n",
    "## Goals\n",
    "- To take the output from running relocaTE2 (outside of McClintock wrapper), and use this as input for 'PickPing.py'\n",
    "\n",
    "\n",
    "## Issues\n",
    "- Do we need to make another virtual environment for running these other scripts ('PickPing.py' and 'PickPong.py' \n",
    "    - Currently having issues with numpy not being downloaded, and other syntax issue because the script uses python2 and not python3\n",
    "        - Should the virtual env be loaded with the required modules and python2? \n",
    "        \n",
    " "
   ]
  },
  {
   "cell_type": "code",
   "execution_count": null,
   "id": "ece7e06c-1806-4c42-bb97-1aded0a352a2",
   "metadata": {},
   "outputs": [],
   "source": []
  }
 ],
 "metadata": {
  "kernelspec": {
   "display_name": "Python 3 (ipykernel)",
   "language": "python",
   "name": "python3"
  },
  "language_info": {
   "codemirror_mode": {
    "name": "ipython",
    "version": 3
   },
   "file_extension": ".py",
   "mimetype": "text/x-python",
   "name": "python",
   "nbconvert_exporter": "python",
   "pygments_lexer": "ipython3",
   "version": "3.9.7"
  }
 },
 "nbformat": 4,
 "nbformat_minor": 5
}
